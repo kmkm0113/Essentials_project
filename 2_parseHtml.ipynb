{
 "cells": [
  {
   "cell_type": "code",
   "execution_count": 1,
   "metadata": {},
   "outputs": [],
   "source": [
    "import requests\n",
    "from bs4 import BeautifulSoup\n",
    "import pandas as pd\n",
    "import time\n",
    "from datetime import datetime\n",
    "import re\n",
    "import glob"
   ]
  },
  {
   "cell_type": "code",
   "execution_count": 2,
   "metadata": {},
   "outputs": [],
   "source": [
    "HTML_PATH = \"./html/\""
   ]
  },
  {
   "cell_type": "markdown",
   "metadata": {},
   "source": [
    "# Parse reviews"
   ]
  },
  {
   "cell_type": "markdown",
   "metadata": {},
   "source": [
    "## Define class\n",
    "This class is for parsering html files of reviews and extracting the following information:\n",
    "- id: unique id of restaurant on Tripadvisor\n",
    "- reviewDate: date of the review\n",
    "- reviewRating: rating of the review\n",
    "- title: title of the review\n",
    "- content: content of the review (text)"
   ]
  },
  {
   "cell_type": "code",
   "execution_count": 3,
   "metadata": {},
   "outputs": [],
   "source": [
    "class ReviewsParser():\n",
    "    def __init__(self):\n",
    "        self.folders = glob.glob(HTML_PATH+\"*\")\n",
    "        self.restaurantId_list = []\n",
    "        self.reviewDate_list = []\n",
    "        self.rating_list = []\n",
    "        self.title_list = []\n",
    "        self.content_list = []\n",
    "        self.restaurantId = \"\"\n",
    "        \n",
    "    \n",
    "    def parseRestaurants(self):\n",
    "        total = len(self.folders)\n",
    "        for i, folder in enumerate(self.folders):\n",
    "            self.restaurantId = re.search(r'\\d+', folder).group()\n",
    "            files = glob.glob(folder+\"/*.html\")\n",
    "            \n",
    "            for file in files:\n",
    "                self.parseReviews(file)\n",
    "            \n",
    "            print(f\"\\rDone: {i+1}/{total}\", end=\"\", flush=True)\n",
    "        \n",
    "        self.makeDataframe()\n",
    "    \n",
    "    \n",
    "    def parseReviews(self, file):\n",
    "        soup = BeautifulSoup(open(file, encoding=\"utf-8\"), \"html.parser\")\n",
    "        reviews = soup.find_all(\"div\", class_=\"ui_column is-9\")\n",
    "        \n",
    "        self.restaurantId_list += [self.restaurantId] * len(reviews)\n",
    "        self.reviewDate_list += list(map(self.getDate, reviews))\n",
    "        self.rating_list += list(map(self.getRating, reviews))\n",
    "        self.title_list += list(map(self.getTitle, reviews))\n",
    "        self.content_list += list(map(self.getContent, reviews))\n",
    "    \n",
    "    \n",
    "    # date\n",
    "    def getDate(self, review):\n",
    "        reviewDate_tag = review.find(\"div\", class_=\"prw_rup prw_reviews_stay_date_hsx\")\n",
    "        reviewDate = reviewDate_tag.get_text(strip=True).split(\":\")\n",
    "        if len(reviewDate)==1:\n",
    "            return None\n",
    "        reviewDate = reviewDate[1]\n",
    "        reviewDate = datetime.strptime(reviewDate, '%B %Y').date()\n",
    "        return reviewDate\n",
    "\n",
    "    # rating\n",
    "    def getRating(self, review):\n",
    "        rating_tag = review.find(\"span\", class_=\"ui_bubble_rating\")\n",
    "        rating = rating_tag.get(\"class\")[1]\n",
    "        rating = int(0.1*float(rating.split(\"_\")[1]))\n",
    "        return rating\n",
    "\n",
    "    # title\n",
    "    def getTitle(self, review):\n",
    "        title_tag = review.find(\"span\", class_=\"noQuotes\")\n",
    "        title = title_tag.get_text(strip=True)\n",
    "        return title\n",
    "\n",
    "    # content\n",
    "    def getContent(self, review):\n",
    "        content_tag = review.find(\"p\", class_=\"partial_entry\")\n",
    "        content = content_tag.get_text(strip=True)\n",
    "        return content\n",
    "\n",
    "    \n",
    "    def makeDataframe(self):\n",
    "        self.df = pd.DataFrame({\n",
    "            \"id\": self.restaurantId_list,\n",
    "            \"reviewDate\": self.reviewDate_list,\n",
    "            \"reviewRating\": self.rating_list,\n",
    "            \"title\": self.title_list,\n",
    "            \"content\": self.content_list\n",
    "        })\n",
    "        "
   ]
  },
  {
   "cell_type": "markdown",
   "metadata": {},
   "source": [
    "## do parse"
   ]
  },
  {
   "cell_type": "code",
   "execution_count": 4,
   "metadata": {},
   "outputs": [],
   "source": [
    "p = ReviewsParser()"
   ]
  },
  {
   "cell_type": "code",
   "execution_count": 5,
   "metadata": {},
   "outputs": [
    {
     "name": "stdout",
     "output_type": "stream",
     "text": [
      "Done: 293/293"
     ]
    }
   ],
   "source": [
    "p.parseRestaurants()"
   ]
  },
  {
   "cell_type": "code",
   "execution_count": 8,
   "metadata": {},
   "outputs": [],
   "source": [
    "p.df.to_csv(\"review_data.csv\", encoding='utf-8', index=False)"
   ]
  },
  {
   "cell_type": "code",
   "execution_count": null,
   "metadata": {},
   "outputs": [],
   "source": []
  }
 ],
 "metadata": {
  "kernelspec": {
   "display_name": "Python 3 (ipykernel)",
   "language": "python",
   "name": "python3"
  },
  "language_info": {
   "codemirror_mode": {
    "name": "ipython",
    "version": 3
   },
   "file_extension": ".py",
   "mimetype": "text/x-python",
   "name": "python",
   "nbconvert_exporter": "python",
   "pygments_lexer": "ipython3",
   "version": "3.7.15"
  },
  "toc": {
   "base_numbering": 1,
   "nav_menu": {},
   "number_sections": true,
   "sideBar": true,
   "skip_h1_title": false,
   "title_cell": "Table of Contents",
   "title_sidebar": "Contents",
   "toc_cell": false,
   "toc_position": {},
   "toc_section_display": true,
   "toc_window_display": true
  },
  "varInspector": {
   "cols": {
    "lenName": 16,
    "lenType": 16,
    "lenVar": 40
   },
   "kernels_config": {
    "python": {
     "delete_cmd_postfix": "",
     "delete_cmd_prefix": "del ",
     "library": "var_list.py",
     "varRefreshCmd": "print(var_dic_list())"
    },
    "r": {
     "delete_cmd_postfix": ") ",
     "delete_cmd_prefix": "rm(",
     "library": "var_list.r",
     "varRefreshCmd": "cat(var_dic_list()) "
    }
   },
   "types_to_exclude": [
    "module",
    "function",
    "builtin_function_or_method",
    "instance",
    "_Feature"
   ],
   "window_display": false
  }
 },
 "nbformat": 4,
 "nbformat_minor": 4
}
