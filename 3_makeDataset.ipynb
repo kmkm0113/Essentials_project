{
 "cells": [
  {
   "cell_type": "code",
   "execution_count": 2,
   "id": "52e7c981-b35e-4147-9302-f6b1699d62f6",
   "metadata": {},
   "outputs": [],
   "source": [
    "import pandas as pd\n",
    "import numpy as np\n",
    "import re\n",
    "import matplotlib.pyplot as plt\n",
    "import seaborn as sns"
   ]
  },
  {
   "cell_type": "markdown",
   "id": "5521e2c3-fb20-4e4b-ae6c-508fb2729d7c",
   "metadata": {},
   "source": [
    "# Load and merge csv files\n",
    "- restaurantList.csv contains basic information of each restaurant\n",
    "- revie_data.csv contains detailed review data\n",
    "- These two files are merged based on unique restaurant id"
   ]
  },
  {
   "cell_type": "code",
   "execution_count": 3,
   "id": "573aafaf-1494-4aea-98c4-a4e1ffa05017",
   "metadata": {},
   "outputs": [],
   "source": [
    "# restaurant data\n",
    "df_restaurant = pd.read_csv(\"restaurantList.csv\")\n",
    "# review data\n",
    "df_review = pd.read_csv(\"./review_data.csv\")"
   ]
  },
  {
   "cell_type": "code",
   "execution_count": 4,
   "id": "3e5ec855-b508-4a76-95d8-772dc2a1de82",
   "metadata": {},
   "outputs": [],
   "source": [
    "# merge based on id\n",
    "df = pd.merge(df_restaurant, df_review, on=\"id\")\n",
    "# add review counts\n",
    "rc = pd.DataFrame(df[\"id\"].value_counts()).reset_index()\n",
    "rc = rc.rename(columns={\"index\":\"id\", \"id\":\"reviewCount\"})\n",
    "df = pd.merge(df, rc, on=\"id\")"
   ]
  },
  {
   "cell_type": "markdown",
   "id": "7395619d-2d8b-47c5-87ac-688b17fb5405",
   "metadata": {},
   "source": [
    "# Filtering"
   ]
  },
  {
   "cell_type": "markdown",
   "id": "d9dcbcd4-b70d-4e7c-905c-34906440b718",
   "metadata": {},
   "source": [
    "Filter restaurants with the following conditions:\n",
    "- with more than 50 reviews\n",
    "- \"Swiss\" is included in the top 2 genres"
   ]
  },
  {
   "cell_type": "code",
   "execution_count": 21,
   "id": "bf4cdb0d-9583-4cb7-a3dc-cbd43482d53b",
   "metadata": {},
   "outputs": [
    {
     "name": "stdout",
     "output_type": "stream",
     "text": [
      "Number of restaurants: 73\n",
      "Number of reviews: 15385\n"
     ]
    }
   ],
   "source": [
    "# bool list for filtering\n",
    "min_reviewCount = 50\n",
    "filter_list = (df[\"reviewCount\"]>=min_reviewCount) & ((df[\"genre1\"]==\"Swiss\") | (df[\"genre2\"]==\"Swiss\"))\n",
    "# make filtered dataframe\n",
    "df_filtered = df[filter_list]\n",
    "print(\"Number of restaurants:\", df_filtered[\"id\"].nunique())\n",
    "print(\"Number of reviews:\", df_filtered.drop_duplicates(subset=[\"id\"])[\"reviewCount\"].sum())"
   ]
  },
  {
   "cell_type": "markdown",
   "id": "b5e75088-4c7c-4d0d-b701-aad5026fe584",
   "metadata": {},
   "source": [
    "# Preprocessing"
   ]
  },
  {
   "cell_type": "markdown",
   "id": "f8de1565-ae40-4d11-83ae-c4caf77d3559",
   "metadata": {},
   "source": [
    "- Delete newline tag (\"\\n\")\n",
    "- Add feature of words count"
   ]
  },
  {
   "cell_type": "code",
   "execution_count": 23,
   "id": "b9263fa9-39c0-4a0e-a9d1-c0b04df5200d",
   "metadata": {},
   "outputs": [
    {
     "name": "stderr",
     "output_type": "stream",
     "text": [
      "C:\\Users\\kmkmk\\Anaconda3\\lib\\site-packages\\ipykernel_launcher.py:2: SettingWithCopyWarning: \n",
      "A value is trying to be set on a copy of a slice from a DataFrame.\n",
      "Try using .loc[row_indexer,col_indexer] = value instead\n",
      "\n",
      "See the caveats in the documentation: https://pandas.pydata.org/pandas-docs/stable/user_guide/indexing.html#returning-a-view-versus-a-copy\n",
      "  \n"
     ]
    }
   ],
   "source": [
    "# delete \"\\n\"\n",
    "df_filtered[\"content\"] = df_filtered[\"content\"].apply(lambda x: x.replace(\"\\n\",\"\"))"
   ]
  },
  {
   "cell_type": "code",
   "execution_count": 24,
   "id": "03be90b5-45cf-4841-b4eb-ec765ef91686",
   "metadata": {},
   "outputs": [
    {
     "name": "stderr",
     "output_type": "stream",
     "text": [
      "C:\\Users\\kmkmk\\Anaconda3\\lib\\site-packages\\ipykernel_launcher.py:2: SettingWithCopyWarning: \n",
      "A value is trying to be set on a copy of a slice from a DataFrame.\n",
      "Try using .loc[row_indexer,col_indexer] = value instead\n",
      "\n",
      "See the caveats in the documentation: https://pandas.pydata.org/pandas-docs/stable/user_guide/indexing.html#returning-a-view-versus-a-copy\n",
      "  \n"
     ]
    }
   ],
   "source": [
    "# word count\n",
    "df_filtered[\"words\"] = df_filtered[\"content\"].apply(lambda x: len(x.split()))"
   ]
  },
  {
   "cell_type": "markdown",
   "id": "751a517f-eb4d-48bd-9dde-421f9ace65e0",
   "metadata": {},
   "source": [
    "# Save the dataset"
   ]
  },
  {
   "cell_type": "code",
   "execution_count": 25,
   "id": "f8edda30-7822-407a-be1b-47abf0a7e1c1",
   "metadata": {},
   "outputs": [],
   "source": [
    "# output\n",
    "df_filtered.to_csv(\"dataset.csv\", index=False)"
   ]
  },
  {
   "cell_type": "markdown",
   "id": "dd0d3f5a-22f4-4e0a-8c33-54a0698cc7cd",
   "metadata": {},
   "source": [
    "# Check review counts"
   ]
  },
  {
   "cell_type": "code",
   "execution_count": 5,
   "id": "7c80dbf8-497a-4609-90bd-04711e85dec3",
   "metadata": {},
   "outputs": [
    {
     "data": {
      "image/png": "[encoded data removed]",
      "text/plain": [
       "<Figure size 640x480 with 1 Axes>"
      ]
     },
     "metadata": {},
     "output_type": "display_data"
    }
   ],
   "source": [
    "df = pd.read_csv(\"dataset.csv\")\n",
    "res = df.drop_duplicates(subset=[\"id\"])\n",
    "p = sns.histplot(\n",
    "    data = res,\n",
    "    x = \"reviewCount\",\n",
    "    color=\"#C8D2D7\"\n",
    ")\n",
    "p.set(xlabel=\"Number of Reviews\", ylabel = \"Number of Restaurants\")\n",
    "plt.savefig(\"figures/distr_number_of_reviews.pdf\")\n",
    "plt.show()"
   ]
  },
  {
   "cell_type": "code",
   "execution_count": null,
   "id": "2ec5f969-57d6-41fe-a024-1a6f216d0b23",
   "metadata": {},
   "outputs": [],
   "source": []
  }
 ],
 "metadata": {
  "kernelspec": {
   "display_name": "Python 3 (ipykernel)",
   "language": "python",
   "name": "python3"
  },
  "language_info": {
   "codemirror_mode": {
    "name": "ipython",
    "version": 3
   },
   "file_extension": ".py",
   "mimetype": "text/x-python",
   "name": "python",
   "nbconvert_exporter": "python",
   "pygments_lexer": "ipython3",
   "version": "3.7.15"
  }
 },
 "nbformat": 4,
 "nbformat_minor": 5
}
